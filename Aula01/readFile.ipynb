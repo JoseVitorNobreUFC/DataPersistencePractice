{
 "cells": [
  {
   "cell_type": "code",
   "execution_count": 8,
   "id": "21a06821",
   "metadata": {},
   "outputs": [
    {
     "name": "stdout",
     "output_type": "stream",
     "text": [
      "b'Teste\\nTeste\\nlalalalla\\n\\xc3\\x89\\xc3\\x89\\xc3\\x89\\xc3\\x89'\n"
     ]
    }
   ],
   "source": [
    "with open('arquivo.txt', 'rb') as file:\n",
    "  b = file.read(100)\n",
    "\n",
    "print(b)"
   ]
  },
  {
   "cell_type": "code",
   "execution_count": 9,
   "id": "eda9d7c2",
   "metadata": {},
   "outputs": [
    {
     "name": "stdout",
     "output_type": "stream",
     "text": [
      "Teste\n",
      "Teste\n",
      "lalalalla\n",
      "ÉÉÉÉ\n"
     ]
    }
   ],
   "source": [
    "with open('arquivo.txt', 'r') as file:\n",
    "  b = file.read(100)\n",
    "\n",
    "print(b)"
   ]
  },
  {
   "cell_type": "code",
   "execution_count": 23,
   "id": "32133e1a",
   "metadata": {},
   "outputs": [
    {
     "ename": "AttributeError",
     "evalue": "'list' object has no attribute 'strip'",
     "output_type": "error",
     "traceback": [
      "\u001b[31m---------------------------------------------------------------------------\u001b[39m",
      "\u001b[31mAttributeError\u001b[39m                            Traceback (most recent call last)",
      "\u001b[36mCell\u001b[39m\u001b[36m \u001b[39m\u001b[32mIn[23]\u001b[39m\u001b[32m, line 5\u001b[39m\n\u001b[32m      2\u001b[39m l = file.readlines()\n\u001b[32m      4\u001b[39m \u001b[38;5;28;01mwhile\u001b[39;00m l:\n\u001b[32m----> \u001b[39m\u001b[32m5\u001b[39m   \u001b[38;5;28mprint\u001b[39m(\u001b[43ml\u001b[49m\u001b[43m.\u001b[49m\u001b[43mstrip\u001b[49m())\n\u001b[32m      6\u001b[39m   l = file.readlines()\n",
      "\u001b[31mAttributeError\u001b[39m: 'list' object has no attribute 'strip'"
     ]
    }
   ],
   "source": [
    "with open('arquivo.txt', 'r', encoding='utf-8') as file:\n",
    "  l = file.readlines()\n",
    "\n",
    "  while l:\n",
    "    print(l.strip())\n",
    "    l = file.readlines()"
   ]
  },
  {
   "cell_type": "code",
   "execution_count": null,
   "id": "38ff1cf5",
   "metadata": {},
   "outputs": [
    {
     "ename": "AttributeError",
     "evalue": "'_io.TextIOWrapper' object has no attribute 'readLine'",
     "output_type": "error",
     "traceback": [
      "\u001b[31m---------------------------------------------------------------------------\u001b[39m",
      "\u001b[31mAttributeError\u001b[39m                            Traceback (most recent call last)",
      "\u001b[36mCell\u001b[39m\u001b[36m \u001b[39m\u001b[32mIn[22]\u001b[39m\u001b[32m, line 3\u001b[39m\n\u001b[32m      1\u001b[39m \u001b[38;5;28;01mimport\u001b[39;00m\u001b[38;5;250m \u001b[39m\u001b[34;01msys\u001b[39;00m\n\u001b[32m----> \u001b[39m\u001b[32m3\u001b[39m s = \u001b[43msys\u001b[49m\u001b[43m.\u001b[49m\u001b[43mstdin\u001b[49m\u001b[43m.\u001b[49m\u001b[43mreadLine\u001b[49m()\n\u001b[32m      5\u001b[39m \u001b[38;5;28;01mwhile\u001b[39;00m s:\n\u001b[32m      6\u001b[39m   \u001b[38;5;28mprint\u001b[39m(s)\n",
      "\u001b[31mAttributeError\u001b[39m: '_io.TextIOWrapper' object has no attribute 'readLine'"
     ]
    }
   ],
   "source": [
    "import sys\n",
    "\n",
    "s = sys.stdin.readLine()\n",
    "\n",
    "while s:\n",
    "  print(s)\n",
    "  s = sys.stdin.readLine().strip()"
   ]
  },
  {
   "cell_type": "code",
   "execution_count": 25,
   "id": "6fcce105",
   "metadata": {},
   "outputs": [],
   "source": [
    "with open(\"saida.txt\", \"w\", encoding=\"utf-8\") as file:\n",
    "  file.write(\"Java\")"
   ]
  },
  {
   "cell_type": "code",
   "execution_count": null,
   "id": "8d6baabc",
   "metadata": {},
   "outputs": [],
   "source": [
    "with open(\"arquivo.txt\", \"w\", encoding=\"utf-8\") as file:\n",
    "  while True:\n",
    "    try:\n",
    "      line = input()\n",
    "      print(line, file=file)\n",
    "    except EOFError:\n",
    "      break"
   ]
  }
 ],
 "metadata": {
  "kernelspec": {
   "display_name": "Python 3",
   "language": "python",
   "name": "python3"
  },
  "language_info": {
   "codemirror_mode": {
    "name": "ipython",
    "version": 3
   },
   "file_extension": ".py",
   "mimetype": "text/x-python",
   "name": "python",
   "nbconvert_exporter": "python",
   "pygments_lexer": "ipython3",
   "version": "3.12.1"
  }
 },
 "nbformat": 4,
 "nbformat_minor": 5
}
