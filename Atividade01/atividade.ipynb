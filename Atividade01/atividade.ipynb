{
 "cells": [
  {
   "cell_type": "markdown",
   "id": "b3e23166",
   "metadata": {},
   "source": [
    "### 1. Carregar o CSV:"
   ]
  },
  {
   "cell_type": "code",
   "execution_count": 7,
   "id": "1b9fd51c",
   "metadata": {},
   "outputs": [
    {
     "data": {
      "text/html": [
       "<div>\n",
       "<style scoped>\n",
       "    .dataframe tbody tr th:only-of-type {\n",
       "        vertical-align: middle;\n",
       "    }\n",
       "\n",
       "    .dataframe tbody tr th {\n",
       "        vertical-align: top;\n",
       "    }\n",
       "\n",
       "    .dataframe thead th {\n",
       "        text-align: right;\n",
       "    }\n",
       "</style>\n",
       "<table border=\"1\" class=\"dataframe\">\n",
       "  <thead>\n",
       "    <tr style=\"text-align: right;\">\n",
       "      <th></th>\n",
       "      <th>Data_Atualizacao</th>\n",
       "      <th>Produto</th>\n",
       "      <th>Categoria</th>\n",
       "      <th>Quantidade</th>\n",
       "      <th>Preco_Unitario</th>\n",
       "    </tr>\n",
       "  </thead>\n",
       "  <tbody>\n",
       "    <tr>\n",
       "      <th>0</th>\n",
       "      <td>29/03/2023</td>\n",
       "      <td>Monitor</td>\n",
       "      <td>Eletrônicos</td>\n",
       "      <td>97</td>\n",
       "      <td>398.63</td>\n",
       "    </tr>\n",
       "    <tr>\n",
       "      <th>1</th>\n",
       "      <td>30/08/2023</td>\n",
       "      <td>Desodorante</td>\n",
       "      <td>Higiene</td>\n",
       "      <td>45</td>\n",
       "      <td>272.30</td>\n",
       "    </tr>\n",
       "    <tr>\n",
       "      <th>2</th>\n",
       "      <td>07/12/2023</td>\n",
       "      <td>Arroz</td>\n",
       "      <td>Alimentos</td>\n",
       "      <td>34</td>\n",
       "      <td>487.97</td>\n",
       "    </tr>\n",
       "    <tr>\n",
       "      <th>3</th>\n",
       "      <td>15/07/2023</td>\n",
       "      <td>Sabão em Pó</td>\n",
       "      <td>Limpeza</td>\n",
       "      <td>181</td>\n",
       "      <td>419.03</td>\n",
       "    </tr>\n",
       "    <tr>\n",
       "      <th>4</th>\n",
       "      <td>14/08/2023</td>\n",
       "      <td>Notebook</td>\n",
       "      <td>Eletrônicos</td>\n",
       "      <td>87</td>\n",
       "      <td>458.93</td>\n",
       "    </tr>\n",
       "    <tr>\n",
       "      <th>...</th>\n",
       "      <td>...</td>\n",
       "      <td>...</td>\n",
       "      <td>...</td>\n",
       "      <td>...</td>\n",
       "      <td>...</td>\n",
       "    </tr>\n",
       "    <tr>\n",
       "      <th>595</th>\n",
       "      <td>22/07/2023</td>\n",
       "      <td>Teclado</td>\n",
       "      <td>Eletrônicos</td>\n",
       "      <td>30</td>\n",
       "      <td>373.67</td>\n",
       "    </tr>\n",
       "    <tr>\n",
       "      <th>596</th>\n",
       "      <td>04/07/2023</td>\n",
       "      <td>Detergente</td>\n",
       "      <td>Limpeza</td>\n",
       "      <td>145</td>\n",
       "      <td>245.53</td>\n",
       "    </tr>\n",
       "    <tr>\n",
       "      <th>597</th>\n",
       "      <td>26/07/2023</td>\n",
       "      <td>Sabão em Pó</td>\n",
       "      <td>Limpeza</td>\n",
       "      <td>97</td>\n",
       "      <td>456.52</td>\n",
       "    </tr>\n",
       "    <tr>\n",
       "      <th>598</th>\n",
       "      <td>21/12/2023</td>\n",
       "      <td>Esponja</td>\n",
       "      <td>Limpeza</td>\n",
       "      <td>39</td>\n",
       "      <td>242.94</td>\n",
       "    </tr>\n",
       "    <tr>\n",
       "      <th>599</th>\n",
       "      <td>12/05/2023</td>\n",
       "      <td>Macarrão</td>\n",
       "      <td>Alimentos</td>\n",
       "      <td>24</td>\n",
       "      <td>394.30</td>\n",
       "    </tr>\n",
       "  </tbody>\n",
       "</table>\n",
       "<p>600 rows × 5 columns</p>\n",
       "</div>"
      ],
      "text/plain": [
       "    Data_Atualizacao      Produto    Categoria  Quantidade  Preco_Unitario\n",
       "0         29/03/2023      Monitor  Eletrônicos          97          398.63\n",
       "1         30/08/2023  Desodorante      Higiene          45          272.30\n",
       "2         07/12/2023        Arroz    Alimentos          34          487.97\n",
       "3         15/07/2023  Sabão em Pó      Limpeza         181          419.03\n",
       "4         14/08/2023     Notebook  Eletrônicos          87          458.93\n",
       "..               ...          ...          ...         ...             ...\n",
       "595       22/07/2023      Teclado  Eletrônicos          30          373.67\n",
       "596       04/07/2023   Detergente      Limpeza         145          245.53\n",
       "597       26/07/2023  Sabão em Pó      Limpeza          97          456.52\n",
       "598       21/12/2023      Esponja      Limpeza          39          242.94\n",
       "599       12/05/2023     Macarrão    Alimentos          24          394.30\n",
       "\n",
       "[600 rows x 5 columns]"
      ]
     },
     "execution_count": 7,
     "metadata": {},
     "output_type": "execute_result"
    }
   ],
   "source": [
    "import pandas as pd\n",
    "import matplotlib.pyplot as plt\n",
    "\n",
    "df = pd.read_csv(\"estoque.csv\")\n",
    "\n",
    "df"
   ]
  },
  {
   "cell_type": "markdown",
   "id": "0a2a6ca7",
   "metadata": {},
   "source": [
    "### 2. Calcular o valor total por produto"
   ]
  },
  {
   "cell_type": "code",
   "execution_count": 8,
   "id": "a4d3ceb8",
   "metadata": {},
   "outputs": [
    {
     "name": "stdout",
     "output_type": "stream",
     "text": [
      "    Data_Atualizacao      Produto    Categoria  Quantidade  Preco_Unitario  \\\n",
      "0         29/03/2023      Monitor  Eletrônicos          97          398.63   \n",
      "1         30/08/2023  Desodorante      Higiene          45          272.30   \n",
      "2         07/12/2023        Arroz    Alimentos          34          487.97   \n",
      "3         15/07/2023  Sabão em Pó      Limpeza         181          419.03   \n",
      "4         14/08/2023     Notebook  Eletrônicos          87          458.93   \n",
      "..               ...          ...          ...         ...             ...   \n",
      "595       22/07/2023      Teclado  Eletrônicos          30          373.67   \n",
      "596       04/07/2023   Detergente      Limpeza         145          245.53   \n",
      "597       26/07/2023  Sabão em Pó      Limpeza          97          456.52   \n",
      "598       21/12/2023      Esponja      Limpeza          39          242.94   \n",
      "599       12/05/2023     Macarrão    Alimentos          24          394.30   \n",
      "\n",
      "     Valor_Estoque  \n",
      "0         38667.11  \n",
      "1         12253.50  \n",
      "2         16590.98  \n",
      "3         75844.43  \n",
      "4         39926.91  \n",
      "..             ...  \n",
      "595       11210.10  \n",
      "596       35601.85  \n",
      "597       44282.44  \n",
      "598        9474.66  \n",
      "599        9463.20  \n",
      "\n",
      "[600 rows x 6 columns]\n",
      "            Produto  Valor_Estoque\n",
      "0             Arroz      719645.46\n",
      "1            Açúcar      479149.04\n",
      "2              Café      476571.30\n",
      "3      Desinfetante      748190.68\n",
      "4       Desodorante      874621.57\n",
      "5        Detergente      828664.61\n",
      "6           Esponja      674606.56\n",
      "7            Feijão      630808.55\n",
      "8    Fone de Ouvido     1136656.38\n",
      "9          Macarrão      446597.93\n",
      "10          Monitor      943618.36\n",
      "11            Mouse      867674.57\n",
      "12         Notebook      653612.95\n",
      "13  Papel Higiênico      891702.11\n",
      "14   Pasta de Dente      682512.97\n",
      "15         Sabonete      849113.83\n",
      "16      Sabão em Pó      720774.22\n",
      "17              Sal      630364.31\n",
      "18          Shampoo      940249.54\n",
      "19          Teclado      876115.11\n",
      "20   Água Sanitária      832433.27\n"
     ]
    }
   ],
   "source": [
    "# Crie uma nova coluna chamada Valor_Estoque, que representa o valor total do produto em estoque (Quantidade * Preco_Unitario).\n",
    "df['Valor_Estoque'] = df['Quantidade'] * df['Preco_Unitario']\n",
    "print(df)\n",
    "\n",
    "# Agrupe os dados por Produto e calcule o valor total de estoque para cada um.\n",
    "agrupamento = df.groupby('Produto')['Valor_Estoque'].sum().reset_index() # Sem o reset_index, não aparece indice\n",
    "print(agrupamento)"
   ]
  },
  {
   "cell_type": "markdown",
   "id": "a5e679cf",
   "metadata": {},
   "source": [
    "### 3. Filtrar produtos com baixo estoque"
   ]
  },
  {
   "cell_type": "code",
   "execution_count": 9,
   "id": "5392b488",
   "metadata": {},
   "outputs": [
    {
     "name": "stdout",
     "output_type": "stream",
     "text": [
      "    Data_Atualizacao          Produto    Categoria  Quantidade  \\\n",
      "30        08/12/2023         Notebook  Eletrônicos           6   \n",
      "35        02/02/2023            Mouse  Eletrônicos           4   \n",
      "47        21/03/2023  Papel Higiênico      Higiene           3   \n",
      "79        27/03/2023   Água Sanitária      Limpeza           9   \n",
      "102       26/11/2023            Arroz    Alimentos           2   \n",
      "130       24/09/2023      Sabão em Pó      Limpeza           7   \n",
      "143       25/09/2023  Papel Higiênico      Higiene           3   \n",
      "152       03/07/2023          Esponja      Limpeza           9   \n",
      "176       10/11/2023   Fone de Ouvido  Eletrônicos           8   \n",
      "355       01/02/2023           Açúcar    Alimentos           9   \n",
      "405       22/09/2023           Feijão    Alimentos           6   \n",
      "420       28/07/2023       Detergente      Limpeza           1   \n",
      "456       02/05/2023       Detergente      Limpeza           2   \n",
      "463       09/01/2023   Água Sanitária      Limpeza           7   \n",
      "495       24/11/2023      Sabão em Pó      Limpeza           9   \n",
      "524       19/05/2023   Pasta de Dente      Higiene           9   \n",
      "541       12/10/2023   Fone de Ouvido  Eletrônicos           4   \n",
      "586       13/05/2023      Desodorante      Higiene           9   \n",
      "\n",
      "     Preco_Unitario  Valor_Estoque  \n",
      "30            54.61         327.66  \n",
      "35           393.09        1572.36  \n",
      "47           317.44         952.32  \n",
      "79           305.53        2749.77  \n",
      "102          423.23         846.46  \n",
      "130          463.33        3243.31  \n",
      "143          495.82        1487.46  \n",
      "152           93.36         840.24  \n",
      "176           43.73         349.84  \n",
      "355          410.30        3692.70  \n",
      "405          263.43        1580.58  \n",
      "420          324.69         324.69  \n",
      "456           46.39          92.78  \n",
      "463          291.80        2042.60  \n",
      "495          293.84        2644.56  \n",
      "524          165.11        1485.99  \n",
      "541           58.37         233.48  \n",
      "586          391.84        3526.56  \n"
     ]
    }
   ],
   "source": [
    "# Filtre todos os produtos cuja quantidade seja menor que 10 unidades.\n",
    "print(df[df['Quantidade'] < 10])\n",
    "\n",
    "# Crie um DataFrame separado com esses produtos para posterior análise.\n",
    "filtro = df[df['Quantidade'] < 10]\n"
   ]
  },
  {
   "cell_type": "markdown",
   "id": "2743ef6a",
   "metadata": {},
   "source": [
    "### 4. Salvar os resultados"
   ]
  },
  {
   "cell_type": "code",
   "execution_count": 10,
   "id": "927b9b34",
   "metadata": {},
   "outputs": [],
   "source": [
    "# Exporte os produtos com baixo estoque para um novo arquivo CSV chamado estoque_baixo.csv.\n",
    "filtro.to_csv('estoque_baixo.csv')\n",
    "\n",
    "# Salve o valor total por produto em uma planilha Excel chamada valor_total_estoque.xlsx, onde cada aba representa uma categoria de produto, com os produtos e seus respectivos valores.\n",
    "agrupamento = df.groupby(['Categoria', 'Produto'])['Valor_Estoque'].sum().reset_index()\n",
    "\n",
    "with pd.ExcelWriter('valor_total_estoque.xlsx') as writer:\n",
    "    for categoria, grupo in agrupamento.groupby('Categoria'):\n",
    "        grupo[['Produto', 'Valor_Estoque']].to_excel(writer, sheet_name=categoria, index=False)"
   ]
  },
  {
   "cell_type": "markdown",
   "id": "a798b9c1",
   "metadata": {},
   "source": [
    "### 5. Identificar o produto mais valioso por categoria"
   ]
  },
  {
   "cell_type": "code",
   "execution_count": 11,
   "id": "e69c62e9",
   "metadata": {},
   "outputs": [
    {
     "name": "stdout",
     "output_type": "stream",
     "text": [
      "     Categoria         Produto  Valor_Estoque\n",
      "0    Alimentos           Arroz      719645.46\n",
      "1  Eletrônicos  Fone de Ouvido     1136656.38\n",
      "2      Higiene         Shampoo      940249.54\n",
      "3      Limpeza  Água Sanitária      832433.27\n"
     ]
    }
   ],
   "source": [
    "# Para cada categoria, identifique o produto com o maior valor total de estoque.\n",
    "# Crie um DataFrame contendo: Categoria, Produto, Valor_Estoque.\n",
    "agrupamento2 = df.groupby(['Categoria', 'Produto'])['Valor_Estoque'].sum().reset_index()\n",
    "max_ids = agrupamento2.groupby('Categoria')['Valor_Estoque'].idxmax()\n",
    "maiores = agrupamento2.loc[max_ids].reset_index(drop=True)\n",
    "print(maiores)\n"
   ]
  },
  {
   "cell_type": "markdown",
   "id": "bcb51bab",
   "metadata": {},
   "source": [
    "### 6. Calcular o valor total do estoque por categoria"
   ]
  },
  {
   "cell_type": "code",
   "execution_count": 13,
   "id": "7d2cfc95",
   "metadata": {},
   "outputs": [
    {
     "name": "stdout",
     "output_type": "stream",
     "text": [
      "     Categoria  Valor_Estoque\n",
      "0    Alimentos     3383136.59\n",
      "1  Eletrônicos     4477677.37\n",
      "2      Higiene     4238200.02\n",
      "3      Limpeza     3804669.34 \n",
      "\n",
      "     Categoria  Valor_Estoque\n",
      "1  Eletrônicos     4477677.37\n",
      "2      Higiene     4238200.02\n",
      "3      Limpeza     3804669.34\n",
      "0    Alimentos     3383136.59\n"
     ]
    },
    {
     "data": {
      "image/png": "[encoded data removed]",
      "text/plain": [
       "<Figure size 800x500 with 1 Axes>"
      ]
     },
     "metadata": {},
     "output_type": "display_data"
    }
   ],
   "source": [
    "# Agrupe os dados por Categoria e calcule a soma total de Valor_Estoque de cada categoria\n",
    "agrupamento3 = df.groupby('Categoria')['Valor_Estoque'].sum().reset_index()\n",
    "print(agrupamento3, '\\n')\n",
    "\n",
    "# Ordene do maior para o menor.\n",
    "print(agrupamento3.sort_values(by='Valor_Estoque', ascending=False))\n",
    "\n",
    "# Pode ser salvo como CSV ou exibido como gráfico.\n",
    "# Abordagem usando Gráfico\n",
    "agrupamento3.plot(\n",
    "    kind='bar',\n",
    "    x='Categoria',\n",
    "    y='Valor_Estoque',\n",
    "    legend=False,\n",
    "    color='skyblue',\n",
    "    figsize=(8, 5)\n",
    ")\n",
    "\n",
    "plt.title('Valor Total em Estoque por Categoria')\n",
    "plt.ylabel('Valor em R$')\n",
    "plt.xlabel('Categoria')\n",
    "plt.xticks(rotation=45)\n",
    "plt.tight_layout()\n",
    "plt.show()"
   ]
  },
  {
   "cell_type": "markdown",
   "id": "d38a2b62",
   "metadata": {},
   "source": [
    "### 7.Classificar produtos em faixas de estoque"
   ]
  },
  {
   "cell_type": "code",
   "execution_count": 20,
   "id": "efcadebe",
   "metadata": {},
   "outputs": [
    {
     "name": "stdout",
     "output_type": "stream",
     "text": [
      "Nivel_Estoque\n",
      "Alto     462\n",
      "Baixo     18\n",
      "Médio    120\n",
      "Name: Nivel_Estoque, dtype: int64\n"
     ]
    }
   ],
   "source": [
    "# Adicione uma nova coluna chamada Nivel_Estoque com base na Quantidade:\n",
    "# Baixo: Quantidade < 10\n",
    "# Médio: entre 10 e 50\n",
    "# Alto: > 50\n",
    "df[\"Nivel_Estoque\"] = df[\"Quantidade\"].apply(lambda x: \"Baixo\" if x < 10 else (\"Médio\" if x <= 50 else \"Alto\"))\n",
    "\n",
    "# Faça uma contagem por nível.\n",
    "print(df.groupby(\"Nivel_Estoque\")[\"Nivel_Estoque\"].count()) # Aqui eu repito [Nivel_Estoque] porque sem ele ele mostra todas as colunas com a contagem"
   ]
  },
  {
   "cell_type": "markdown",
   "id": "8d48a640",
   "metadata": {},
   "source": [
    "### 8. Análise temporal"
   ]
  },
  {
   "cell_type": "code",
   "execution_count": 56,
   "id": "24c64197",
   "metadata": {},
   "outputs": [
    {
     "data": {
      "image/png": "[encoded data removed]",
      "text/plain": [
       "<Figure size 1000x500 with 1 Axes>"
      ]
     },
     "metadata": {},
     "output_type": "display_data"
    }
   ],
   "source": [
    "# Converta a coluna Data_Atualizacao para o tipo datetime.\n",
    "df['Data_Atualizacao'] = pd.to_datetime(df['Data_Atualizacao'])\n",
    "df['Mes'] = df['Data_Atualizacao'].dt.strftime('%m')  # Criando uma coluna separada pra mês para fazer o agrupamento\n",
    "\n",
    "# Agrupe por mês (ou trimestre) e calcule:\n",
    "  # Número de atualizações de estoque\n",
    "  # Quantidade média dos produtos atualizados\n",
    "agrupamento_por_mes = df.groupby('Mes').agg({\n",
    "    'Produto': 'count',\n",
    "    'Quantidade': 'mean'\n",
    "}).rename(columns={\n",
    "    'Produto': 'Num_Atualizacoes',\n",
    "    'Quantidade': 'Quantidade_Media'\n",
    "}).reset_index() # Sem o reset index a Coluna Mes não existe\n",
    "\n",
    "# Gere uma visualização de linha temporal com esses dados.\n",
    "plt.figure(figsize=(10, 5))\n",
    "plt.plot(agrupamento_por_mes['Mes'], agrupamento_por_mes['Num_Atualizacoes'], marker='o', label='Número de Atualizações')\n",
    "plt.plot(agrupamento_por_mes['Mes'], agrupamento_por_mes['Quantidade_Media'], marker='s', label='Quantidade Média')\n",
    "\n",
    "plt.xlabel('Mês')\n",
    "plt.ylabel('Valores')\n",
    "plt.legend()\n",
    "plt.grid(True)\n",
    "plt.tight_layout()\n",
    "plt.show()"
   ]
  }
 ],
 "metadata": {
  "kernelspec": {
   "display_name": "Python 3 (ipykernel)",
   "language": "python",
   "name": "python3"
  },
  "language_info": {
   "codemirror_mode": {
    "name": "ipython",
    "version": 3
   },
   "file_extension": ".py",
   "mimetype": "text/x-python",
   "name": "python",
   "nbconvert_exporter": "python",
   "pygments_lexer": "ipython3",
   "version": "3.12.1"
  }
 },
 "nbformat": 4,
 "nbformat_minor": 5
}
